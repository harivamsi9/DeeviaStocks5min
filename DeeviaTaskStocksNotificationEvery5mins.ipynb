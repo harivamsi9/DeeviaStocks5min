{
 "cells": [
  {
   "cell_type": "code",
   "execution_count": 1,
   "metadata": {},
   "outputs": [],
   "source": [
    "import re\n",
    "import pandas as pd\n",
    "from openpyxl import Workbook\n",
    "from bs4 import BeautifulSoup as Soup\n",
    "from urllib.request import urlopen as uReq\n",
    "import time"
   ]
  },
  {
   "cell_type": "code",
   "execution_count": 2,
   "metadata": {},
   "outputs": [],
   "source": [
    "book=Workbook()\n",
    "sheet=book.active"
   ]
  },
  {
   "cell_type": "code",
   "execution_count": 4,
   "metadata": {},
   "outputs": [],
   "source": [
    "p='https://www.moneycontrol.com/financials/adaniportsspecialeconomiczone/balance-sheetVI/MPS#MPS'\n",
    "UrlRatios=re.sub('balance-sheetVI','ratiosVI',p)\n",
    "UrlYears=re.sub('balance-sheetVI','results/yearly',p)\n",
    "Left=UrlRatios.find('VI/')\n",
    "Right=UrlRatios.find('#')\n",
    "UrlOld=UrlRatios[:Left]+'/'+UrlRatios[Right+1:]"
   ]
  },
  {
   "cell_type": "code",
   "execution_count": 65,
   "metadata": {},
   "outputs": [
    {
     "name": "stderr",
     "output_type": "stream",
     "text": [
      "Some characters could not be decoded, and were replaced with REPLACEMENT CHARACTER.\n",
      "Some characters could not be decoded, and were replaced with REPLACEMENT CHARACTER.\n",
      "Some characters could not be decoded, and were replaced with REPLACEMENT CHARACTER.\n"
     ]
    },
    {
     "name": "stdout",
     "output_type": "stream",
     "text": [
      "NetSales: 5336.38\n",
      "Interest_Coverage: 3.66\n",
      "PE: 28.79905808477237\n",
      "DdivE: 1.19\n",
      "ROE: 12.97\n"
     ]
    },
    {
     "name": "stderr",
     "output_type": "stream",
     "text": [
      "Some characters could not be decoded, and were replaced with REPLACEMENT CHARACTER.\n",
      "Some characters could not be decoded, and were replaced with REPLACEMENT CHARACTER.\n",
      "Some characters could not be decoded, and were replaced with REPLACEMENT CHARACTER.\n"
     ]
    },
    {
     "name": "stdout",
     "output_type": "stream",
     "text": [
      "NetSales: 5336.38\n",
      "Interest_Coverage: 3.66\n",
      "PE: 28.79905808477237\n",
      "DdivE: 1.19\n",
      "ROE: 12.97\n"
     ]
    },
    {
     "name": "stderr",
     "output_type": "stream",
     "text": [
      "Some characters could not be decoded, and were replaced with REPLACEMENT CHARACTER.\n",
      "Some characters could not be decoded, and were replaced with REPLACEMENT CHARACTER.\n",
      "Some characters could not be decoded, and were replaced with REPLACEMENT CHARACTER.\n"
     ]
    },
    {
     "name": "stdout",
     "output_type": "stream",
     "text": [
      "NetSales: 5336.38\n",
      "Interest_Coverage: 3.66\n",
      "PE: 28.79905808477237\n",
      "DdivE: 1.19\n",
      "ROE: 12.97\n"
     ]
    },
    {
     "name": "stderr",
     "output_type": "stream",
     "text": [
      "Some characters could not be decoded, and were replaced with REPLACEMENT CHARACTER.\n",
      "Some characters could not be decoded, and were replaced with REPLACEMENT CHARACTER.\n",
      "Some characters could not be decoded, and were replaced with REPLACEMENT CHARACTER.\n"
     ]
    },
    {
     "name": "stdout",
     "output_type": "stream",
     "text": [
      "NetSales: 5336.38\n",
      "Interest_Coverage: 3.66\n",
      "PE: 28.79905808477237\n",
      "DdivE: 1.19\n",
      "ROE: 12.97\n"
     ]
    },
    {
     "name": "stderr",
     "output_type": "stream",
     "text": [
      "Some characters could not be decoded, and were replaced with REPLACEMENT CHARACTER.\n",
      "Some characters could not be decoded, and were replaced with REPLACEMENT CHARACTER.\n",
      "Some characters could not be decoded, and were replaced with REPLACEMENT CHARACTER.\n"
     ]
    },
    {
     "name": "stdout",
     "output_type": "stream",
     "text": [
      "NetSales: 5336.38\n",
      "Interest_Coverage: 3.66\n",
      "PE: 28.79905808477237\n",
      "DdivE: 1.19\n",
      "ROE: 12.97\n"
     ]
    },
    {
     "name": "stderr",
     "output_type": "stream",
     "text": [
      "Some characters could not be decoded, and were replaced with REPLACEMENT CHARACTER.\n",
      "Some characters could not be decoded, and were replaced with REPLACEMENT CHARACTER.\n",
      "Some characters could not be decoded, and were replaced with REPLACEMENT CHARACTER.\n"
     ]
    },
    {
     "name": "stdout",
     "output_type": "stream",
     "text": [
      "NetSales: 5336.38\n",
      "Interest_Coverage: 3.66\n",
      "PE: 28.79905808477237\n",
      "DdivE: 1.19\n",
      "ROE: 12.97\n"
     ]
    },
    {
     "name": "stderr",
     "output_type": "stream",
     "text": [
      "Some characters could not be decoded, and were replaced with REPLACEMENT CHARACTER.\n",
      "Some characters could not be decoded, and were replaced with REPLACEMENT CHARACTER.\n",
      "Some characters could not be decoded, and were replaced with REPLACEMENT CHARACTER.\n"
     ]
    },
    {
     "name": "stdout",
     "output_type": "stream",
     "text": [
      "NetSales: 5336.38\n",
      "Interest_Coverage: 3.66\n",
      "PE: 28.79905808477237\n",
      "DdivE: 1.19\n",
      "ROE: 12.97\n"
     ]
    },
    {
     "name": "stderr",
     "output_type": "stream",
     "text": [
      "Some characters could not be decoded, and were replaced with REPLACEMENT CHARACTER.\n",
      "Some characters could not be decoded, and were replaced with REPLACEMENT CHARACTER.\n",
      "Some characters could not be decoded, and were replaced with REPLACEMENT CHARACTER.\n"
     ]
    },
    {
     "name": "stdout",
     "output_type": "stream",
     "text": [
      "NetSales: 5336.38\n",
      "Interest_Coverage: 3.66\n",
      "PE: 28.79905808477237\n",
      "DdivE: 1.19\n",
      "ROE: 12.97\n"
     ]
    },
    {
     "name": "stderr",
     "output_type": "stream",
     "text": [
      "Some characters could not be decoded, and were replaced with REPLACEMENT CHARACTER.\n",
      "Some characters could not be decoded, and were replaced with REPLACEMENT CHARACTER.\n",
      "Some characters could not be decoded, and were replaced with REPLACEMENT CHARACTER.\n"
     ]
    },
    {
     "name": "stdout",
     "output_type": "stream",
     "text": [
      "NetSales: 5336.38\n",
      "Interest_Coverage: 3.66\n",
      "PE: 28.79905808477237\n",
      "DdivE: 1.19\n",
      "ROE: 12.97\n"
     ]
    },
    {
     "name": "stderr",
     "output_type": "stream",
     "text": [
      "Some characters could not be decoded, and were replaced with REPLACEMENT CHARACTER.\n",
      "Some characters could not be decoded, and were replaced with REPLACEMENT CHARACTER.\n",
      "Some characters could not be decoded, and were replaced with REPLACEMENT CHARACTER.\n"
     ]
    },
    {
     "name": "stdout",
     "output_type": "stream",
     "text": [
      "NetSales: 5336.38\n",
      "Interest_Coverage: 3.66\n",
      "PE: 28.79905808477237\n",
      "DdivE: 1.19\n",
      "ROE: 12.97\n"
     ]
    },
    {
     "name": "stderr",
     "output_type": "stream",
     "text": [
      "Some characters could not be decoded, and were replaced with REPLACEMENT CHARACTER.\n",
      "Some characters could not be decoded, and were replaced with REPLACEMENT CHARACTER.\n",
      "Some characters could not be decoded, and were replaced with REPLACEMENT CHARACTER.\n"
     ]
    },
    {
     "name": "stdout",
     "output_type": "stream",
     "text": [
      "NetSales: 5336.38\n",
      "Interest_Coverage: 3.66\n",
      "PE: 28.79905808477237\n",
      "DdivE: 1.19\n",
      "ROE: 12.97\n"
     ]
    },
    {
     "name": "stderr",
     "output_type": "stream",
     "text": [
      "Some characters could not be decoded, and were replaced with REPLACEMENT CHARACTER.\n",
      "Some characters could not be decoded, and were replaced with REPLACEMENT CHARACTER.\n",
      "Some characters could not be decoded, and were replaced with REPLACEMENT CHARACTER.\n"
     ]
    },
    {
     "name": "stdout",
     "output_type": "stream",
     "text": [
      "NetSales: 5336.38\n",
      "Interest_Coverage: 3.66\n",
      "PE: 28.79905808477237\n",
      "DdivE: 1.19\n",
      "ROE: 12.97\n"
     ]
    }
   ],
   "source": [
    "#looping starts here\n",
    "for monkey in range(12):\n",
    "    my_url=UrlYears\n",
    "    uClient=uReq(my_url)\n",
    "    page_html=uClient.read()\n",
    "    uClient.close()\n",
    "    page_soup=Soup(page_html,\"html.parser\")\n",
    "    containers=page_soup.findAll(\"td\",{\"class\":\"det\"})\n",
    "    netSalesValue=containers[2].text\n",
    "    #print(\"Net Sales: \"+netSalesValue)\n",
    "    netSalesValue=list(netSalesValue)\n",
    "    while(',' in netSalesValue):\n",
    "        netSalesValue.remove(',')\n",
    "    netSalesValue=''.join(netSalesValue)\n",
    "    #if(netSalesValue=='--'):  #Problem may arise while averaging so be aware and modify\n",
    "    #    netSalesValue=0\n",
    "    \n",
    "    \n",
    "    \n",
    "    my_url=UrlOld\n",
    "    uClient=uReq(my_url)\n",
    "    page_html=uClient.read()\n",
    "    uClient.close()\n",
    "    page_soup=Soup(page_html,\"html.parser\")\n",
    "    containers=page_soup.findAll(\"table\",{\"class\":\"table4\"})\n",
    "    container=containers[2]\n",
    "    price=container.findAll(\"td\",{\"class\":\"det\"})\n",
    "    ic=price[23*6].text\n",
    "    ic_value=price[23*6+1].text\n",
    "    #print(ic+\" :\" + ic_value)\n",
    "\n",
    "    ic_value=list(ic_value)\n",
    "    while(',' in ic_value):\n",
    "        ic_value.remove(',')\n",
    "    ic_value=''.join(ic_value)\n",
    "\n",
    "    #if(ic_value=='--'):\n",
    "    #    ic_value=0\n",
    "    \n",
    "    \n",
    "    \n",
    "\n",
    "    my_url=UrlRatios\n",
    "    uClient=uReq(my_url)\n",
    "    page_html=uClient.read()\n",
    "    uClient.close()\n",
    "    page_soup=Soup(page_html,\"html.parser\")\n",
    "    containers=page_soup.findAll(\"table\",{\"class\":\"table4\"})\n",
    "    container=containers[2]\n",
    "    price=container.findAll(\"td\",{\"class\":\"det\"})\n",
    "    #ROE CALCULATION\n",
    "    ROE=price[15*6 +1].text\n",
    "    ROE=list(ROE)\n",
    "    while(',' in ROE):\n",
    "        ROE.remove(',')\n",
    "    ROE=''.join(ROE)\n",
    "    #if('--'!= ROE):\n",
    "    #    ROE=0\n",
    "\n",
    "\n",
    "\n",
    "    containers=page_soup.findAll(\"div\",{\"id\":\"Nse_Prc_tick_div\"})\n",
    "    container=containers[0]\n",
    "    numerator=containers[0].text\n",
    "    containers1=page_soup.findAll(\"td\",{\"class\":\"det\"})\n",
    "    denominator=containers1[2].text\n",
    "    PE=float(numerator)/float(denominator)\n",
    "    #print(\"PE: \"+str(PE))\n",
    "    #PE=price[33*6+1].text\n",
    "    #PE=list(PE)\n",
    "    #while(',' in PE):\n",
    "    #    PE.remove(',')\n",
    "    #PE=''.join(PE)\n",
    "    #if('--'!=PE):\n",
    "    #    PE=0\n",
    "\n",
    "    DdivE=price[18*6+1].text\n",
    "    DdivE=list(DdivE)\n",
    "    while(',' in DdivE):\n",
    "        DdivE.remove(',')\n",
    "    DdivE=''.join(DdivE)\n",
    "    #if(DdivE!='--'):\n",
    "    #    DdivE=0\n",
    "\n",
    "    \n",
    "    \n",
    "    print(\"NetSales: \"+str(netSalesValue))\n",
    "    print(\"Interest_Coverage: \"+str(ic_value))\n",
    "    print(\"PE: \"+str(PE))\n",
    "    print(\"DdivE: \"+str(DdivE))\n",
    "    print(\"ROE: \"+str(ROE))\n",
    "    sheet.append((p,float(netSalesValue),float(ic_value),float(PE),float(DdivE),float(ROE)))\n",
    "    book.save('Values1.xlsx')\n",
    "    #save to the sheets\n",
    "    \n",
    "    #time.sleep(60*5)\n",
    "\n",
    "    #check for the 12th row is filled, if filled send the email immediately\n",
    "    #else repeat\n",
    "    #rowNum=12\n",
    "    #konae=\"A\"+str(rowNum)\n",
    "    #a=type(sheet[konae].value)\n",
    "    #if(str(a)!=\"<class 'NoneType'>\"):\n",
    "    #    rowNum+=12\n",
    "        #calc the averages check for the NA values so that mean doesnt get affected\n",
    "        #\n",
    "        #\n",
    "        #send the email\n",
    "        #\n",
    "\n",
    "\n"
   ]
  },
  {
   "cell_type": "code",
   "execution_count": 76,
   "metadata": {},
   "outputs": [],
   "source": [
    "sheet[\"G36\"] = \"=AVERAGE(B24:B39)\""
   ]
  },
  {
   "cell_type": "code",
   "execution_count": 78,
   "metadata": {},
   "outputs": [
    {
     "name": "stdout",
     "output_type": "stream",
     "text": [
      "=AVERAGE(B24:B39)\n",
      "=AVERAGE(B24:B39)\n"
     ]
    }
   ],
   "source": [
    "print(sheet[\"G36\"].value)\n",
    "book.save('Values1.xlsx')\n",
    "print(sheet[\"G36\"].value)"
   ]
  },
  {
   "cell_type": "code",
   "execution_count": 49,
   "metadata": {},
   "outputs": [
    {
     "name": "stdout",
     "output_type": "stream",
     "text": [
      "123\n",
      "<class 'NoneType'>\n"
     ]
    }
   ],
   "source": [
    "a=type(sheet[\"A5\"].value)\n",
    "avsd=sheet[\"A5\"].value\n",
    "if(str(a)==\"<class 'NoneType'>\"):\n",
    "    print(123)\n",
    "print(type(avsd))"
   ]
  },
  {
   "cell_type": "code",
   "execution_count": null,
   "metadata": {},
   "outputs": [],
   "source": []
  },
  {
   "cell_type": "code",
   "execution_count": null,
   "metadata": {},
   "outputs": [],
   "source": [
    "\n"
   ]
  },
  {
   "cell_type": "code",
   "execution_count": null,
   "metadata": {},
   "outputs": [],
   "source": []
  }
 ],
 "metadata": {
  "kernelspec": {
   "display_name": "Python 3",
   "language": "python",
   "name": "python3"
  },
  "language_info": {
   "codemirror_mode": {
    "name": "ipython",
    "version": 3
   },
   "file_extension": ".py",
   "mimetype": "text/x-python",
   "name": "python",
   "nbconvert_exporter": "python",
   "pygments_lexer": "ipython3",
   "version": "3.7.4"
  }
 },
 "nbformat": 4,
 "nbformat_minor": 2
}
